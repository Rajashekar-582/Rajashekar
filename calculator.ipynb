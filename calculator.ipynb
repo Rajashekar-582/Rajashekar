{
  "nbformat": 4,
  "nbformat_minor": 0,
  "metadata": {
    "colab": {
      "name": "calculator.ipynb",
      "provenance": [],
      "authorship_tag": "ABX9TyM1c6aPM959C1Yj+Qnl4JDf",
      "include_colab_link": true
    },
    "kernelspec": {
      "name": "python3",
      "display_name": "Python 3"
    },
    "language_info": {
      "name": "python"
    }
  },
  "cells": [
    {
      "cell_type": "markdown",
      "metadata": {
        "id": "view-in-github",
        "colab_type": "text"
      },
      "source": [
        "<a href=\"https://colab.research.google.com/github/Rajashekar-582/Rajashekar/blob/main/calculator.ipynb\" target=\"_parent\"><img src=\"https://colab.research.google.com/assets/colab-badge.svg\" alt=\"Open In Colab\"/></a>"
      ]
    },
    {
      "cell_type": "code",
      "execution_count": null,
      "metadata": {
        "id": "uQ8aHyYHhH7U"
      },
      "outputs": [],
      "source": [
        "def add(n1,n2):\n",
        "  return n1+n2\n",
        "def subtract(n1,n2):\n",
        "  return n1-n2\n",
        "def mul(n1,n2):  \n",
        "  return n1*n2\n",
        "def divide(n1,n2):\n",
        "  return n1/n2\n",
        "logo = \"\"\"\n",
        " _____________________\n",
        "|  _________________  |\n",
        "| | Pythonista   0. | |  .----------------.  .----------------.  .----------------.  .----------------. \n",
        "| |_________________| | | .--------------. || .--------------. || .--------------. || .--------------. |\n",
        "|  ___ ___ ___   ___  | | |     ______   | || |      __      | || |   _____      | || |     ______   | |\n",
        "| | 7 | 8 | 9 | | + | | | |   .' ___  |  | || |     /  \\     | || |  |_   _|     | || |   .' ___  |  | |\n",
        "| |___|___|___| |___| | | |  / .'   \\_|  | || |    / /\\ \\    | || |    | |       | || |  / .'   \\_|  | |\n",
        "| | 4 | 5 | 6 | | - | | | |  | |         | || |   / ____ \\   | || |    | |   _   | || |  | |         | |\n",
        "| |___|___|___| |___| | | |  \\ `.___.'\\  | || | _/ /    \\ \\_ | || |   _| |__/ |  | || |  \\ `.___.'\\  | |\n",
        "| | 1 | 2 | 3 | | x | | | |   `._____.'  | || ||____|  |____|| || |  |________|  | || |   `._____.'  | |\n",
        "| |___|___|___| |___| | | |              | || |              | || |              | || |              | |\n",
        "| | . | 0 | = | | / | | | '--------------' || '--------------' || '--------------' || '--------------' |\n",
        "| |___|___|___| |___| |  '----------------'  '----------------'  '----------------'  '----------------' \n",
        "|_____________________|\n",
        "\"\"\"\n",
        "print(logo)\n",
        "operations={'+':add,'-':subtract,'*':mul,'/':divide}\n",
        "def calculate():\n",
        "  n1=float(input(\"\\nEnter the first number: \"))\n",
        "  for i in operations:\n",
        "    print(i)\n",
        "  op=input(\"Pick an operation from above options: \")\n",
        "  n2=float(input(\"Enter the second number: \"))\n",
        "  calculation=operations[op]\n",
        "  result=calculation(n1,n2)\n",
        "  print(f\"{n1} {op} {n2} = {result}\")\n",
        "  do_calculation=True\n",
        "  while do_calculation:\n",
        "    value=input(f\"\\nType 'y' to continue with {result}\\nType 'n' to start a new caluculation\\nType 'e' to exit: \")\n",
        "    if value==\"n\":\n",
        "      do_calculation=False\n",
        "      calculate()\n",
        "    elif value==\"e\":\n",
        "      do_calculation=False\n",
        "    else:\n",
        "      op2=input(\"\\nPick another operation: \")\n",
        "      num3=float(input(\"What's the next number? \"))\n",
        "      calculation=operations[op2]\n",
        "      res=calculation(result,num3)\n",
        "      print(f\"{result} {op2} {num3} = {res}\")\n",
        "      result=res\n",
        "calculate()"
      ]
    }
  ]
}